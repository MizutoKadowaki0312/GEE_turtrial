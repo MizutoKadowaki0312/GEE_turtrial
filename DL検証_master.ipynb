{
  "nbformat": 4,
  "nbformat_minor": 0,
  "metadata": {
    "colab": {
      "name": "DL検証.ipynb",
      "provenance": [],
      "collapsed_sections": [],
      "authorship_tag": "ABX9TyNVW5rmGl4xHjEkXGnRbiS9",
      "include_colab_link": true
    },
    "kernelspec": {
      "name": "python3",
      "display_name": "Python 3"
    }
  },
  "cells": [
    {
      "cell_type": "markdown",
      "metadata": {
        "id": "view-in-github",
        "colab_type": "text"
      },
      "source": [
        "<a href=\"https://colab.research.google.com/github/onenechan/GEE_turtrial/blob/main/DL%E6%A4%9C%E8%A8%BC_master.ipynb\" target=\"_parent\"><img src=\"https://colab.research.google.com/assets/colab-badge.svg\" alt=\"Open In Colab\"/></a>"
      ]
    },
    {
      "cell_type": "markdown",
      "metadata": {
        "id": "bJMsmMrOKg4S"
      },
      "source": [
        "LandSat"
      ]
    },
    {
      "cell_type": "code",
      "metadata": {
        "colab": {
          "base_uri": "https://localhost:8080/"
        },
        "id": "XSdsaXdsKkJr",
        "outputId": "a55ccb14-0633-4db6-cccb-69d8a3184a1b"
      },
      "source": [
        "# Install google earth engine api\n",
        "!python -c \"from oauth2client import crypt\"\n",
        "!pip install earthengine-api\n",
        "\n",
        "# Authorization\n",
        "!earthengine authenticate"
      ],
      "execution_count": null,
      "outputs": [
        {
          "output_type": "stream",
          "text": [
            "Requirement already satisfied: earthengine-api in /usr/local/lib/python3.6/dist-packages (0.1.238)\n",
            "Requirement already satisfied: google-api-python-client in /usr/local/lib/python3.6/dist-packages (from earthengine-api) (1.7.12)\n",
            "Requirement already satisfied: httplib2shim in /usr/local/lib/python3.6/dist-packages (from earthengine-api) (0.0.3)\n",
            "Requirement already satisfied: google-cloud-storage in /usr/local/lib/python3.6/dist-packages (from earthengine-api) (1.18.1)\n",
            "Requirement already satisfied: google-auth-httplib2>=0.0.3 in /usr/local/lib/python3.6/dist-packages (from earthengine-api) (0.0.4)\n",
            "Requirement already satisfied: six in /usr/local/lib/python3.6/dist-packages (from earthengine-api) (1.15.0)\n",
            "Requirement already satisfied: httplib2<1dev,>=0.9.2 in /usr/local/lib/python3.6/dist-packages (from earthengine-api) (0.17.4)\n",
            "Requirement already satisfied: future in /usr/local/lib/python3.6/dist-packages (from earthengine-api) (0.16.0)\n",
            "Requirement already satisfied: google-auth>=1.4.1 in /usr/local/lib/python3.6/dist-packages (from earthengine-api) (1.17.2)\n",
            "Requirement already satisfied: uritemplate<4dev,>=3.0.0 in /usr/local/lib/python3.6/dist-packages (from google-api-python-client->earthengine-api) (3.0.1)\n",
            "Requirement already satisfied: urllib3 in /usr/local/lib/python3.6/dist-packages (from httplib2shim->earthengine-api) (1.24.3)\n",
            "Requirement already satisfied: certifi in /usr/local/lib/python3.6/dist-packages (from httplib2shim->earthengine-api) (2020.12.5)\n",
            "Requirement already satisfied: google-resumable-media<0.5.0dev,>=0.3.1 in /usr/local/lib/python3.6/dist-packages (from google-cloud-storage->earthengine-api) (0.4.1)\n",
            "Requirement already satisfied: google-cloud-core<2.0dev,>=1.0.0 in /usr/local/lib/python3.6/dist-packages (from google-cloud-storage->earthengine-api) (1.0.3)\n",
            "Requirement already satisfied: rsa<5,>=3.1.4; python_version >= \"3\" in /usr/local/lib/python3.6/dist-packages (from google-auth>=1.4.1->earthengine-api) (4.6)\n",
            "Requirement already satisfied: pyasn1-modules>=0.2.1 in /usr/local/lib/python3.6/dist-packages (from google-auth>=1.4.1->earthengine-api) (0.2.8)\n",
            "Requirement already satisfied: cachetools<5.0,>=2.0.0 in /usr/local/lib/python3.6/dist-packages (from google-auth>=1.4.1->earthengine-api) (4.2.0)\n",
            "Requirement already satisfied: setuptools>=40.3.0 in /usr/local/lib/python3.6/dist-packages (from google-auth>=1.4.1->earthengine-api) (51.1.1)\n",
            "Requirement already satisfied: google-api-core<2.0.0dev,>=1.14.0 in /usr/local/lib/python3.6/dist-packages (from google-cloud-core<2.0dev,>=1.0.0->google-cloud-storage->earthengine-api) (1.16.0)\n",
            "Requirement already satisfied: pyasn1>=0.1.3 in /usr/local/lib/python3.6/dist-packages (from rsa<5,>=3.1.4; python_version >= \"3\"->google-auth>=1.4.1->earthengine-api) (0.4.8)\n",
            "Requirement already satisfied: requests<3.0.0dev,>=2.18.0 in /usr/local/lib/python3.6/dist-packages (from google-api-core<2.0.0dev,>=1.14.0->google-cloud-core<2.0dev,>=1.0.0->google-cloud-storage->earthengine-api) (2.23.0)\n",
            "Requirement already satisfied: pytz in /usr/local/lib/python3.6/dist-packages (from google-api-core<2.0.0dev,>=1.14.0->google-cloud-core<2.0dev,>=1.0.0->google-cloud-storage->earthengine-api) (2018.9)\n",
            "Requirement already satisfied: protobuf>=3.4.0 in /usr/local/lib/python3.6/dist-packages (from google-api-core<2.0.0dev,>=1.14.0->google-cloud-core<2.0dev,>=1.0.0->google-cloud-storage->earthengine-api) (3.12.4)\n",
            "Requirement already satisfied: googleapis-common-protos<2.0dev,>=1.6.0 in /usr/local/lib/python3.6/dist-packages (from google-api-core<2.0.0dev,>=1.14.0->google-cloud-core<2.0dev,>=1.0.0->google-cloud-storage->earthengine-api) (1.52.0)\n",
            "Requirement already satisfied: chardet<4,>=3.0.2 in /usr/local/lib/python3.6/dist-packages (from requests<3.0.0dev,>=2.18.0->google-api-core<2.0.0dev,>=1.14.0->google-cloud-core<2.0dev,>=1.0.0->google-cloud-storage->earthengine-api) (3.0.4)\n",
            "Requirement already satisfied: idna<3,>=2.5 in /usr/local/lib/python3.6/dist-packages (from requests<3.0.0dev,>=2.18.0->google-api-core<2.0.0dev,>=1.14.0->google-cloud-core<2.0dev,>=1.0.0->google-cloud-storage->earthengine-api) (2.10)\n",
            "WARNING:tensorflow:From /usr/local/lib/python3.6/dist-packages/tensorflow/python/compat/v2_compat.py:96: disable_resource_variables (from tensorflow.python.ops.variable_scope) is deprecated and will be removed in a future version.\n",
            "Instructions for updating:\n",
            "non-resource variables are not supported in the long term\n",
            "Running command using Cloud API.  Set --no-use_cloud_api to go back to using the API\n",
            "\n",
            "To authorize access needed by Earth Engine, open the following URL in a web browser and follow the instructions. If the web browser does not start automatically, please manually browse the URL below.\n",
            "\n",
            "    https://accounts.google.com/o/oauth2/auth?client_id=517222506229-vsmmajv00ul0bs7p89v5m89qs8eb9359.apps.googleusercontent.com&scope=https%3A%2F%2Fwww.googleapis.com%2Fauth%2Fearthengine+https%3A%2F%2Fwww.googleapis.com%2Fauth%2Fdevstorage.full_control&redirect_uri=urn%3Aietf%3Awg%3Aoauth%3A2.0%3Aoob&response_type=code&code_challenge=h0tYkijamUGH50FiRvsCWxAP9sN9Oo_U-xhyotEzpPU&code_challenge_method=S256\n",
            "\n",
            "The authorization workflow will generate a code, which you should paste in the box below. \n",
            "Enter verification code: 4/1AY0e-g4M_mQOisQ4xq8hp6MItxjxANyilGx5_roHxdJfQ0RkVFVXIF0dlDQ\n",
            "\n",
            "Successfully saved authorization token.\n"
          ],
          "name": "stdout"
        }
      ]
    },
    {
      "cell_type": "code",
      "metadata": {
        "id": "e-Jui_E8LewR"
      },
      "source": [
        "from IPython.display import Image\n",
        "import ee\n",
        "import ee.mapclient\n",
        "\n",
        "ee.Initialize()"
      ],
      "execution_count": null,
      "outputs": []
    },
    {
      "cell_type": "code",
      "metadata": {
        "id": "XgYI8ORdLnID"
      },
      "source": [
        "import numpy as np\n",
        "import matplotlib.pyplot as plt\n",
        "import pandas as pd\n",
        "import seaborn as sns\n"
      ],
      "execution_count": null,
      "outputs": []
    },
    {
      "cell_type": "code",
      "metadata": {
        "id": "-RDqjpRhWhGs"
      },
      "source": [
        "import os\n",
        "import pprint\n",
        "import time\n",
        "import urllib.error\n",
        "import urllib.request\n",
        "from google.colab import files"
      ],
      "execution_count": null,
      "outputs": []
    },
    {
      "cell_type": "code",
      "metadata": {
        "id": "yLimcrKQMS9m"
      },
      "source": [
        "# Input data\n",
        "Area1 = ee.Geometry.Rectangle(139.7,35.6,139.8,35.7)\n",
        "Landsat8_collection = ee.ImageCollection('LANDSAT/LC08/C01/T1_TOA').filterDate('2019-06-01','2019-06-15').min()"
      ],
      "execution_count": null,
      "outputs": []
    },
    {
      "cell_type": "code",
      "metadata": {
        "id": "ewiuofIiNQib"
      },
      "source": [
        "def TrueColor(data,area,gain):\n",
        "  \"\"\"\n",
        "  TrueColor画像の可視化を行うメソッド。\n",
        "  image : ee.ImageCollection()で指定した衛星データ\n",
        "  area  : ee.Geometryで得られた位置データ\n",
        "  \"\"\"\n",
        "  red = data.expression(\"b('B4')*gain\",{\"gain\":gain})\n",
        "  green = data.expression(\"b('B3')*gain\",{\"gain\":gain})\n",
        "  blue = data.expression(\"b('B2')*gain\",{\"gain\":gain})\n",
        "  \n",
        "  # TrueColorのバンドを重ねたデータを作成する。\n",
        "  bands = ee.Image(red).addBands(green).addBands(blue)\n",
        "  image = bands.clip(area)\n",
        "  image_url = image.getThumbUrl({'min':0,'max':1,'dimensions':'800'})\n",
        "  return Image(url=image_url)"
      ],
      "execution_count": null,
      "outputs": []
    },
    {
      "cell_type": "code",
      "metadata": {
        "id": "IMg0PuczNXYu"
      },
      "source": [
        ""
      ],
      "execution_count": null,
      "outputs": []
    },
    {
      "cell_type": "code",
      "metadata": {
        "id": "QEHQGtV8VkAW"
      },
      "source": [
        "def download_file(url, dst_path):\n",
        "    try:\n",
        "        with urllib.request.urlopen(url) as web_file, open(dst_path, 'wb') as local_file:\n",
        "            local_file.write(web_file.read())\n",
        "            files.download(dst_path)\n",
        "    except urllib.error.URLError as e:\n",
        "        print(e)"
      ],
      "execution_count": null,
      "outputs": []
    },
    {
      "cell_type": "code",
      "metadata": {
        "id": "JYwUGKS_QH5m"
      },
      "source": [
        "def IdentifyCloud(data,area):\n",
        "  \"\"\"\n",
        "  雲を判別して可視化するメソッド\n",
        "  data : ee.ImageCollection()で指定した衛星データ\n",
        "  area  : ee.Geometryで得られた位置データ\n",
        "  \"\"\"\n",
        "  \n",
        "  #雲と雪の判別を行うためのバンド6,7の反射率の基準値を設定\n",
        "  cloud_lim = 0.1\n",
        "  \n",
        "  #()?がif,:()?がelse if,:がelse文に対応\n",
        "  #b()でバンドを選択できる\n",
        "  #バンド6,7がともに基準値以上であれば雲と判断し、青色にする\n",
        "  red = data.expression(\"(b('B6')>lim && b('B7')>lim)? 0\"+ \": b('B4')\",{\"lim\":cloud_lim})\n",
        "  green = data.expression(\"(b('B6')>lim && b('B7')>lim)? 0\" + \": b('B3')\",{\"lim\":cloud_lim})\n",
        "  blue = data.expression(\"(b('B6')>lim && b('B7')>lim)? 1\"+\": b('B2')\",{\"lim\":cloud_lim})\n",
        "  \n",
        "  #TrueColorのバンドを重ねたデータを作成\n",
        "  image = ee.Image(red).addBands(green).addBands(blue)\n",
        "  \n",
        "  #データの範囲を選択\n",
        "  clipped_image = image.clip(area)\n",
        "  \n",
        "  #画像のサムネイルの作成と画像の可視化\n",
        "  image_url = clipped_image.getThumbUrl({'min':0,'max':1,'dimensions':'800'})\n",
        "  print(image_url)\n",
        "  return image_url #Image(url=image_url)"
      ],
      "execution_count": null,
      "outputs": []
    },
    {
      "cell_type": "code",
      "metadata": {
        "colab": {
          "base_uri": "https://localhost:8080/",
          "height": 34
        },
        "id": "3-ORuRZ5QWra",
        "outputId": "203927ff-b6e9-4b8a-bbc9-88298086fe69"
      },
      "source": [
        "img_url = IdentifyCloud(Landsat8_collection,Area1)\n",
        "download_file(img_url, 'test.png')"
      ],
      "execution_count": null,
      "outputs": [
        {
          "output_type": "stream",
          "text": [
            "https://earthengine.googleapis.com/v1alpha/projects/earthengine-legacy/thumbnails/6521c4116d8cfc9be6200634b88c74aa-b91ce7437454960517a42c5b48d680a1:getPixels\n"
          ],
          "name": "stdout"
        },
        {
          "output_type": "display_data",
          "data": {
            "application/javascript": [
              "\n",
              "    async function download(id, filename, size) {\n",
              "      if (!google.colab.kernel.accessAllowed) {\n",
              "        return;\n",
              "      }\n",
              "      const div = document.createElement('div');\n",
              "      const label = document.createElement('label');\n",
              "      label.textContent = `Downloading \"${filename}\": `;\n",
              "      div.appendChild(label);\n",
              "      const progress = document.createElement('progress');\n",
              "      progress.max = size;\n",
              "      div.appendChild(progress);\n",
              "      document.body.appendChild(div);\n",
              "\n",
              "      const buffers = [];\n",
              "      let downloaded = 0;\n",
              "\n",
              "      const channel = await google.colab.kernel.comms.open(id);\n",
              "      // Send a message to notify the kernel that we're ready.\n",
              "      channel.send({})\n",
              "\n",
              "      for await (const message of channel.messages) {\n",
              "        // Send a message to notify the kernel that we're ready.\n",
              "        channel.send({})\n",
              "        if (message.buffers) {\n",
              "          for (const buffer of message.buffers) {\n",
              "            buffers.push(buffer);\n",
              "            downloaded += buffer.byteLength;\n",
              "            progress.value = downloaded;\n",
              "          }\n",
              "        }\n",
              "      }\n",
              "      const blob = new Blob(buffers, {type: 'application/binary'});\n",
              "      const a = document.createElement('a');\n",
              "      a.href = window.URL.createObjectURL(blob);\n",
              "      a.download = filename;\n",
              "      div.appendChild(a);\n",
              "      a.click();\n",
              "      div.remove();\n",
              "    }\n",
              "  "
            ],
            "text/plain": [
              "<IPython.core.display.Javascript object>"
            ]
          },
          "metadata": {
            "tags": []
          }
        },
        {
          "output_type": "display_data",
          "data": {
            "application/javascript": [
              "download(\"download_3bef4b65-e97b-478b-8f47-d8194676fa30\", \"test.png\", 54830)"
            ],
            "text/plain": [
              "<IPython.core.display.Javascript object>"
            ]
          },
          "metadata": {
            "tags": []
          }
        }
      ]
    },
    {
      "cell_type": "markdown",
      "metadata": {
        "id": "F3tM3B7LZtmv"
      },
      "source": [
        "夜間光"
      ]
    },
    {
      "cell_type": "code",
      "metadata": {
        "id": "DWn2-3qVaM0P"
      },
      "source": [
        "VIIRS_Nighttime_Day = ee.ImageCollection(\"NOAA/VIIRS/DNB/MONTHLY_V1/VCMCFG\").filterDate('2019-06-01','2019-06-15').min()"
      ],
      "execution_count": null,
      "outputs": []
    },
    {
      "cell_type": "code",
      "metadata": {
        "id": "dlTfI3rH_o77"
      },
      "source": [
        "data = ee.ImageCollection('NOAA/VIIRS/DNB/MONTHLY_V1/VCMCFG').filter(ee.Filter.date('2019-06-01', '2017-06-15'));\n",
        "nighttime = dataset.select('avg_rad');\n",
        "nighttimeVis = {min: 0.0, max: 60.0};\n",
        "Area2 = ee.Geometry.Rectangle(139.7,35.6,139.8,35.7);\n",
        "def TrueColor(data,area,gain):\n",
        "  \"\"\"\n",
        "  TrueColor画像の可視化を行うメソッド。\n",
        "  image : ee.ImageCollection()で指定した衛星データ\n",
        "  area  : ee.Geometryで得られた位置データ\n",
        "  \"\"\"\n",
        "  image=area;\n",
        "  return Image(url=image)"
      ],
      "execution_count": null,
      "outputs": []
    },
    {
      "cell_type": "code",
      "metadata": {
        "id": "yKiT-XVjf6Ia"
      },
      "source": [
        "# 衛星名を指定\n",
        "satellite = \"NOAA/VIIRS/DNB/MONTHLY_V1/VCMCFG\"\n",
        "# バンド名を指定\n",
        "band = 'avg_rad'\n",
        "# 期間を指定\n",
        "from_date='2019-01-01'\n",
        "to_date='2019-01-31'\n",
        "## エリアを指定(日本エリアを緯度・経度を指定)\n",
        "geometry = ee.Geometry.Rectangle([128.60, 29.97, 148.43, 46.12]);\n",
        "\n",
        "# 指定した条件でGEEからデータをロード\n",
        "dataset = ee.ImageCollection(satellite).filter(\n",
        "    ee.Filter.date(from_date, to_date)).filter(\n",
        "    ee.Filter.geometry(geometry)).select(band)\n",
        "\n",
        "## リスト形式へ変換\n",
        "data_list = dataset.toList(dataset.size().getInfo())\n",
        "image = ee.Image(data_list.get(0))\n",
        "\n",
        "# Gdriveへ保存\n",
        "task = ee.batch.Export.image.toDrive(**{\n",
        "    'image': image,# 対象データの指定\n",
        "    'description': 'sample_dataloading_NTL',# ファイル名の指定\n",
        "    'folder':'GEE_download',# Google Drive(MyDrive)のフォルダ名\n",
        "    'scale': 100,# 解像度の指定\n",
        "    'region': geometry.getInfo()['coordinates']# 上記で指定した対象エリア\n",
        "})\n",
        "\n",
        "# 処理の実行\n",
        "task.start()"
      ],
      "execution_count": null,
      "outputs": []
    },
    {
      "cell_type": "code",
      "metadata": {
        "colab": {
          "base_uri": "https://localhost:8080/"
        },
        "id": "iSa9IPtwilVR",
        "outputId": "b818c98b-a978-42e8-93c9-532df4594929"
      },
      "source": [
        "task.active()"
      ],
      "execution_count": null,
      "outputs": [
        {
          "output_type": "execute_result",
          "data": {
            "text/plain": [
              "False"
            ]
          },
          "metadata": {
            "tags": []
          },
          "execution_count": 71
        }
      ]
    },
    {
      "cell_type": "code",
      "metadata": {
        "colab": {
          "base_uri": "https://localhost:8080/"
        },
        "id": "CXf6fMNcmkOa",
        "outputId": "bbb8ff8c-d395-4f66-95da-5dc14f934444"
      },
      "source": [
        "print(dataset.size().getInfo())"
      ],
      "execution_count": null,
      "outputs": [
        {
          "output_type": "stream",
          "text": [
            "1\n"
          ],
          "name": "stdout"
        }
      ]
    }
  ]
}