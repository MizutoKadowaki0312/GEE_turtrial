{
  "nbformat": 4,
  "nbformat_minor": 0,
  "metadata": {
    "colab": {
      "name": "GEE_sdf_turtrial3.ipynb",
      "provenance": [],
      "authorship_tag": "ABX9TyNlIjzNBGwK0POiBoppCm6e",
      "include_colab_link": true
    },
    "kernelspec": {
      "name": "python3",
      "display_name": "Python 3"
    }
  },
  "cells": [
    {
      "cell_type": "markdown",
      "metadata": {
        "id": "view-in-github",
        "colab_type": "text"
      },
      "source": [
        "<a href=\"https://colab.research.google.com/github/onenechan/GEE_turtrial/blob/main/GEE_sdf_turtrial3.ipynb\" target=\"_parent\"><img src=\"https://colab.research.google.com/assets/colab-badge.svg\" alt=\"Open In Colab\"/></a>"
      ]
    },
    {
      "cell_type": "code",
      "metadata": {
        "colab": {
          "base_uri": "https://localhost:8080/"
        },
        "id": "dbUORs3Hnv3G",
        "outputId": "f3b33897-05c5-41f5-90ad-a1d5bd4c7441"
      },
      "source": [
        "# Install google earth engine api\n",
        "!python -c \"from oauth2client import crypt\"\n",
        "!pip install earthengine-api\n",
        "\n",
        "# Authorization\n",
        "!earthengine authenticate"
      ],
      "execution_count": 1,
      "outputs": [
        {
          "output_type": "stream",
          "text": [
            "Requirement already satisfied: earthengine-api in /usr/local/lib/python3.6/dist-packages (0.1.238)\n",
            "Requirement already satisfied: httplib2<1dev,>=0.9.2 in /usr/local/lib/python3.6/dist-packages (from earthengine-api) (0.17.4)\n",
            "Requirement already satisfied: six in /usr/local/lib/python3.6/dist-packages (from earthengine-api) (1.15.0)\n",
            "Requirement already satisfied: google-cloud-storage in /usr/local/lib/python3.6/dist-packages (from earthengine-api) (1.18.1)\n",
            "Requirement already satisfied: google-auth>=1.4.1 in /usr/local/lib/python3.6/dist-packages (from earthengine-api) (1.17.2)\n",
            "Requirement already satisfied: future in /usr/local/lib/python3.6/dist-packages (from earthengine-api) (0.16.0)\n",
            "Requirement already satisfied: httplib2shim in /usr/local/lib/python3.6/dist-packages (from earthengine-api) (0.0.3)\n",
            "Requirement already satisfied: google-api-python-client in /usr/local/lib/python3.6/dist-packages (from earthengine-api) (1.7.12)\n",
            "Requirement already satisfied: google-auth-httplib2>=0.0.3 in /usr/local/lib/python3.6/dist-packages (from earthengine-api) (0.0.4)\n",
            "Requirement already satisfied: google-resumable-media<0.5.0dev,>=0.3.1 in /usr/local/lib/python3.6/dist-packages (from google-cloud-storage->earthengine-api) (0.4.1)\n",
            "Requirement already satisfied: google-cloud-core<2.0dev,>=1.0.0 in /usr/local/lib/python3.6/dist-packages (from google-cloud-storage->earthengine-api) (1.0.3)\n",
            "Requirement already satisfied: cachetools<5.0,>=2.0.0 in /usr/local/lib/python3.6/dist-packages (from google-auth>=1.4.1->earthengine-api) (4.1.1)\n",
            "Requirement already satisfied: rsa<5,>=3.1.4; python_version >= \"3\" in /usr/local/lib/python3.6/dist-packages (from google-auth>=1.4.1->earthengine-api) (4.6)\n",
            "Requirement already satisfied: pyasn1-modules>=0.2.1 in /usr/local/lib/python3.6/dist-packages (from google-auth>=1.4.1->earthengine-api) (0.2.8)\n",
            "Requirement already satisfied: setuptools>=40.3.0 in /usr/local/lib/python3.6/dist-packages (from google-auth>=1.4.1->earthengine-api) (50.3.2)\n",
            "Requirement already satisfied: urllib3 in /usr/local/lib/python3.6/dist-packages (from httplib2shim->earthengine-api) (1.24.3)\n",
            "Requirement already satisfied: certifi in /usr/local/lib/python3.6/dist-packages (from httplib2shim->earthengine-api) (2020.11.8)\n",
            "Requirement already satisfied: uritemplate<4dev,>=3.0.0 in /usr/local/lib/python3.6/dist-packages (from google-api-python-client->earthengine-api) (3.0.1)\n",
            "Requirement already satisfied: google-api-core<2.0.0dev,>=1.14.0 in /usr/local/lib/python3.6/dist-packages (from google-cloud-core<2.0dev,>=1.0.0->google-cloud-storage->earthengine-api) (1.16.0)\n",
            "Requirement already satisfied: pyasn1>=0.1.3 in /usr/local/lib/python3.6/dist-packages (from rsa<5,>=3.1.4; python_version >= \"3\"->google-auth>=1.4.1->earthengine-api) (0.4.8)\n",
            "Requirement already satisfied: requests<3.0.0dev,>=2.18.0 in /usr/local/lib/python3.6/dist-packages (from google-api-core<2.0.0dev,>=1.14.0->google-cloud-core<2.0dev,>=1.0.0->google-cloud-storage->earthengine-api) (2.23.0)\n",
            "Requirement already satisfied: googleapis-common-protos<2.0dev,>=1.6.0 in /usr/local/lib/python3.6/dist-packages (from google-api-core<2.0.0dev,>=1.14.0->google-cloud-core<2.0dev,>=1.0.0->google-cloud-storage->earthengine-api) (1.52.0)\n",
            "Requirement already satisfied: protobuf>=3.4.0 in /usr/local/lib/python3.6/dist-packages (from google-api-core<2.0.0dev,>=1.14.0->google-cloud-core<2.0dev,>=1.0.0->google-cloud-storage->earthengine-api) (3.12.4)\n",
            "Requirement already satisfied: pytz in /usr/local/lib/python3.6/dist-packages (from google-api-core<2.0.0dev,>=1.14.0->google-cloud-core<2.0dev,>=1.0.0->google-cloud-storage->earthengine-api) (2018.9)\n",
            "Requirement already satisfied: chardet<4,>=3.0.2 in /usr/local/lib/python3.6/dist-packages (from requests<3.0.0dev,>=2.18.0->google-api-core<2.0.0dev,>=1.14.0->google-cloud-core<2.0dev,>=1.0.0->google-cloud-storage->earthengine-api) (3.0.4)\n",
            "Requirement already satisfied: idna<3,>=2.5 in /usr/local/lib/python3.6/dist-packages (from requests<3.0.0dev,>=2.18.0->google-api-core<2.0.0dev,>=1.14.0->google-cloud-core<2.0dev,>=1.0.0->google-cloud-storage->earthengine-api) (2.10)\n",
            "WARNING:tensorflow:From /usr/local/lib/python3.6/dist-packages/tensorflow/python/compat/v2_compat.py:96: disable_resource_variables (from tensorflow.python.ops.variable_scope) is deprecated and will be removed in a future version.\n",
            "Instructions for updating:\n",
            "non-resource variables are not supported in the long term\n",
            "Running command using Cloud API.  Set --no-use_cloud_api to go back to using the API\n",
            "\n",
            "To authorize access needed by Earth Engine, open the following URL in a web browser and follow the instructions. If the web browser does not start automatically, please manually browse the URL below.\n",
            "\n",
            "    https://accounts.google.com/o/oauth2/auth?client_id=517222506229-vsmmajv00ul0bs7p89v5m89qs8eb9359.apps.googleusercontent.com&scope=https%3A%2F%2Fwww.googleapis.com%2Fauth%2Fearthengine+https%3A%2F%2Fwww.googleapis.com%2Fauth%2Fdevstorage.full_control&redirect_uri=urn%3Aietf%3Awg%3Aoauth%3A2.0%3Aoob&response_type=code&code_challenge=DO9_-PJD4V9sfTJUEF3Pvu8d98NSwH05n_oKwOe858g&code_challenge_method=S256\n",
            "\n",
            "The authorization workflow will generate a code, which you should paste in the box below. \n",
            "Enter verification code: 4/1AY0e-g7pyT_Sqay5KzKbyfxsDIeG57CqYQ7SgLBgAASp_OebylzynonAM4I\n",
            "\n",
            "Successfully saved authorization token.\n"
          ],
          "name": "stdout"
        }
      ]
    },
    {
      "cell_type": "code",
      "metadata": {
        "id": "NzCYK0fToEBr"
      },
      "source": [
        "from IPython.display import Image\n",
        "import ee\n",
        "import ee.mapclient\n",
        "\n",
        "ee.Initialize()"
      ],
      "execution_count": 2,
      "outputs": []
    },
    {
      "cell_type": "code",
      "metadata": {
        "id": "_vsnabfqoJmj"
      },
      "source": [
        "def TrueColor(data,area,gain):\n",
        "  \"\"\"\n",
        "  TrueColor画像の可視化を行うメソッド。\n",
        "  image : ee.ImageCollection()で指定した衛星データ\n",
        "  area  : ee.Geometryで得られた位置データ\n",
        "  \"\"\"\n",
        "  red = data.expression(\"b('B4')*gain\",{\"gain\":gain})\n",
        "  green = data.expression(\"b('B3')*gain\",{\"gain\":gain})\n",
        "  blue = data.expression(\"b('B2')*gain\",{\"gain\":gain})\n",
        "  \n",
        "  # TrueColorのバンドを重ねたデータを作成する。\n",
        "  bands = ee.Image(red).addBands(green).addBands(blue)\n",
        "  image = bands.clip(area)\n",
        "  image_url = image.getThumbUrl({'min':0,'max':1,'dimensions':'800'})\n",
        "  return Image(url=image_url)"
      ],
      "execution_count": 3,
      "outputs": []
    },
    {
      "cell_type": "code",
      "metadata": {
        "id": "dnEAhiWdoQ39"
      },
      "source": [
        "# Input data\n",
        "Area1 = ee.Geometry.Rectangle(138.7,35.3,138.8,35.4)\n",
        "Landsat8_collection = ee.ImageCollection('LANDSAT/LC08/C01/T1_TOA').filterDate('2019-03-01','2019-03-15').min()"
      ],
      "execution_count": 4,
      "outputs": []
    },
    {
      "cell_type": "code",
      "metadata": {
        "colab": {
          "base_uri": "https://localhost:8080/",
          "height": 821
        },
        "id": "92FYNa9VoTgu",
        "outputId": "b578371a-3881-433c-9be2-a4ca707a8eac"
      },
      "source": [
        "TrueColor(Landsat8_collection,Area1,1)"
      ],
      "execution_count": 5,
      "outputs": [
        {
          "output_type": "execute_result",
          "data": {
            "text/html": [
              "<img src=\"https://earthengine.googleapis.com/v1alpha/projects/earthengine-legacy/thumbnails/219591ffb02d9f7015a6efc0f5d1aeff-0d544b517ee9fd29f40c3d367c9fc2b7:getPixels\"/>"
            ],
            "text/plain": [
              "<IPython.core.display.Image object>"
            ]
          },
          "metadata": {
            "tags": []
          },
          "execution_count": 5
        }
      ]
    },
    {
      "cell_type": "code",
      "metadata": {
        "id": "nwB-Gxe7odI1"
      },
      "source": [
        "def IdentifyCloud(data,area):\n",
        "  \"\"\"\n",
        "  雲を判別して可視化するメソッド\n",
        "  data : ee.ImageCollection()で指定した衛星データ\n",
        "  area  : ee.Geometryで得られた位置データ\n",
        "  \"\"\"\n",
        "  \n",
        "  #雲と雪の判別を行うためのバンド6,7の反射率の基準値を設定\n",
        "  cloud_lim = 0.20\n",
        "  \n",
        "  #()?がif,:()?がelse if,:がelse文に対応\n",
        "  #b()でバンドを選択できる\n",
        "  #バンド6,7がともに基準値以上であれば雲と判断し、青色にする\n",
        "  red = data.expression(\"(b('B6')>lim && b('B7')>lim)? 0\"+ \": b('B4')\",{\"lim\":cloud_lim})\n",
        "  green = data.expression(\"(b('B6')>lim && b('B7')>lim)? 0\" + \": b('B3')\",{\"lim\":cloud_lim})\n",
        "  blue = data.expression(\"(b('B6')>lim && b('B7')>lim)? 1\"+\": b('B2')\",{\"lim\":cloud_lim})\n",
        "  \n",
        "  #TrueColorのバンドを重ねたデータを作成\n",
        "  image = ee.Image(red).addBands(green).addBands(blue)\n",
        "  \n",
        "  #データの範囲を選択\n",
        "  clipped_image = image.clip(area)\n",
        "  \n",
        "  #画像のサムネイルの作成と画像の可視化\n",
        "  image_url = clipped_image.getThumbUrl({'min':0,'max':1,'dimentions':'800'})\n",
        "  print(image_url)\n",
        "  return Image(url=image_url)"
      ],
      "execution_count": 7,
      "outputs": []
    },
    {
      "cell_type": "code",
      "metadata": {
        "colab": {
          "base_uri": "https://localhost:8080/",
          "height": 51
        },
        "id": "ClwRbUGWokpJ",
        "outputId": "47f0a9ac-a3c2-4894-f810-feb0494075c2"
      },
      "source": [
        "IdentifyCloud(Landsat8_collection,Area1)"
      ],
      "execution_count": 8,
      "outputs": [
        {
          "output_type": "stream",
          "text": [
            "https://earthengine.googleapis.com/v1alpha/projects/earthengine-legacy/thumbnails/ef27f7b204ab212161ac372337e34132-22d66fc229e3fe31d7c52f498d23892a:getPixels\n"
          ],
          "name": "stdout"
        },
        {
          "output_type": "execute_result",
          "data": {
            "text/html": [
              "<img src=\"https://earthengine.googleapis.com/v1alpha/projects/earthengine-legacy/thumbnails/ef27f7b204ab212161ac372337e34132-22d66fc229e3fe31d7c52f498d23892a:getPixels\"/>"
            ],
            "text/plain": [
              "<IPython.core.display.Image object>"
            ]
          },
          "metadata": {
            "tags": []
          },
          "execution_count": 8
        }
      ]
    },
    {
      "cell_type": "code",
      "metadata": {
        "id": "fJ3vK-1Gotmy"
      },
      "source": [
        "def NDVI(data,area):\n",
        "  #ndvi = data.normalizedDifference(['B5','B4'])でも良い\n",
        "  ndvi = data.expression(\"(b('B5')-b('B4'))/(b('B5')+b('B4'))\")\n",
        "  \n",
        "  #雪と雲を検知(簡易版)\n",
        "  cloud_lim = 0.2\n",
        "  snow_lim = 0.3\n",
        "  snow = data.expression(\"(b('B2')>lim1 && b('B3')>lim1 && b('B4')>lim1 && b('B6')<lim2 && b('B7')<lim2)? 1\"+\": 0\",{\"lim1\":snow_lim,\"lim2\":cloud_lim})\n",
        "  cloud = data.expression(\"(b('B6')>lim && b('B7')>lim)? 1\"+\": 0\",{\"lim\":cloud_lim})\n",
        " \n",
        "  #NDVIを緑色、雪を赤色、雲を青色で表現&範囲を選択\n",
        "  image = ee.Image(snow).addBands(ndvi).addBands(cloud).clip(area)\n",
        "  \n",
        "  #NDVIの-1〜0の値を切り捨てて可視化\n",
        "  image_url = image.getThumbUrl({'min':0,'max':1,'dimentions':1600})\n",
        "  return Image(url=image_url)"
      ],
      "execution_count": 10,
      "outputs": []
    },
    {
      "cell_type": "code",
      "metadata": {
        "id": "iAGnTAUgozqu"
      },
      "source": [
        "# Input data\n",
        "Area1 = ee.Geometry.Rectangle(139,35,141,37)\n",
        "Landsat8_collection = ee.ImageCollection('LANDSAT/LC08/C01/T1_TOA').filterDate('2018-01-01','2018-04-08').median()"
      ],
      "execution_count": 16,
      "outputs": []
    },
    {
      "cell_type": "code",
      "metadata": {
        "colab": {
          "base_uri": "https://localhost:8080/",
          "height": 821
        },
        "id": "dI-jgt3Ro215",
        "outputId": "0aa8fd11-f973-4681-8495-97984cec9abb"
      },
      "source": [
        "TrueColor(Landsat8_collection,Area1,3)"
      ],
      "execution_count": 18,
      "outputs": [
        {
          "output_type": "execute_result",
          "data": {
            "text/html": [
              "<img src=\"https://earthengine.googleapis.com/v1alpha/projects/earthengine-legacy/thumbnails/ef4747feaf9138fe1cddd9849789e184-260bcb35bc5ea135cf3e42c32750f6ba:getPixels\"/>"
            ],
            "text/plain": [
              "<IPython.core.display.Image object>"
            ]
          },
          "metadata": {
            "tags": []
          },
          "execution_count": 18
        }
      ]
    },
    {
      "cell_type": "code",
      "metadata": {
        "colab": {
          "base_uri": "https://localhost:8080/",
          "height": 34
        },
        "id": "HnnwTxmEpA-o",
        "outputId": "cab3ad66-6639-4ecf-e32b-849974828117"
      },
      "source": [
        "NDVI(Landsat8_collection,Area1)"
      ],
      "execution_count": 24,
      "outputs": [
        {
          "output_type": "execute_result",
          "data": {
            "text/html": [
              "<img src=\"https://earthengine.googleapis.com/v1alpha/projects/earthengine-legacy/thumbnails/47595ffa0af524dff19e238de53e5d56-b06323604209d1b837e79acde659f7f0:getPixels\"/>"
            ],
            "text/plain": [
              "<IPython.core.display.Image object>"
            ]
          },
          "metadata": {
            "tags": []
          },
          "execution_count": 24
        }
      ]
    }
  ]
}