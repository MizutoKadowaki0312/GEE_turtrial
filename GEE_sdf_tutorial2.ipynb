{
  "nbformat": 4,
  "nbformat_minor": 0,
  "metadata": {
    "colab": {
      "name": "GEE_sdf_tutorial2.ipynb",
      "provenance": [],
      "collapsed_sections": [],
      "authorship_tag": "ABX9TyOS29WDbnf4LABkZzSRNsxH",
      "include_colab_link": true
    },
    "kernelspec": {
      "name": "python3",
      "display_name": "Python 3"
    }
  },
  "cells": [
    {
      "cell_type": "markdown",
      "metadata": {
        "id": "view-in-github",
        "colab_type": "text"
      },
      "source": [
        "<a href=\"https://colab.research.google.com/github/onenechan/GEE_SDFturtrial/blob/main/GEE_sdf_tutorial2.ipynb\" target=\"_parent\"><img src=\"https://colab.research.google.com/assets/colab-badge.svg\" alt=\"Open In Colab\"/></a>"
      ]
    },
    {
      "cell_type": "code",
      "metadata": {
        "id": "iPvEl_7Le5uN",
        "colab": {
          "base_uri": "https://localhost:8080/"
        },
        "outputId": "4c45c943-bf79-4b56-8db6-833eb63374d7"
      },
      "source": [
        "# Install google earth engine api\n",
        "!python -c \"from oauth2client import crypt\"\n",
        "!pip install earthengine-api\n",
        "\n",
        "# Authorization\n",
        "!earthengine authenticate"
      ],
      "execution_count": 1,
      "outputs": [
        {
          "output_type": "stream",
          "text": [
            "Requirement already satisfied: earthengine-api in /usr/local/lib/python3.6/dist-packages (0.1.238)\n",
            "Requirement already satisfied: google-auth>=1.4.1 in /usr/local/lib/python3.6/dist-packages (from earthengine-api) (1.17.2)\n",
            "Requirement already satisfied: httplib2<1dev,>=0.9.2 in /usr/local/lib/python3.6/dist-packages (from earthengine-api) (0.17.4)\n",
            "Requirement already satisfied: six in /usr/local/lib/python3.6/dist-packages (from earthengine-api) (1.15.0)\n",
            "Requirement already satisfied: httplib2shim in /usr/local/lib/python3.6/dist-packages (from earthengine-api) (0.0.3)\n",
            "Requirement already satisfied: google-api-python-client in /usr/local/lib/python3.6/dist-packages (from earthengine-api) (1.7.12)\n",
            "Requirement already satisfied: future in /usr/local/lib/python3.6/dist-packages (from earthengine-api) (0.16.0)\n",
            "Requirement already satisfied: google-auth-httplib2>=0.0.3 in /usr/local/lib/python3.6/dist-packages (from earthengine-api) (0.0.4)\n",
            "Requirement already satisfied: google-cloud-storage in /usr/local/lib/python3.6/dist-packages (from earthengine-api) (1.18.1)\n",
            "Requirement already satisfied: setuptools>=40.3.0 in /usr/local/lib/python3.6/dist-packages (from google-auth>=1.4.1->earthengine-api) (50.3.2)\n",
            "Requirement already satisfied: rsa<5,>=3.1.4; python_version >= \"3\" in /usr/local/lib/python3.6/dist-packages (from google-auth>=1.4.1->earthengine-api) (4.6)\n",
            "Requirement already satisfied: cachetools<5.0,>=2.0.0 in /usr/local/lib/python3.6/dist-packages (from google-auth>=1.4.1->earthengine-api) (4.1.1)\n",
            "Requirement already satisfied: pyasn1-modules>=0.2.1 in /usr/local/lib/python3.6/dist-packages (from google-auth>=1.4.1->earthengine-api) (0.2.8)\n",
            "Requirement already satisfied: certifi in /usr/local/lib/python3.6/dist-packages (from httplib2shim->earthengine-api) (2020.11.8)\n",
            "Requirement already satisfied: urllib3 in /usr/local/lib/python3.6/dist-packages (from httplib2shim->earthengine-api) (1.24.3)\n",
            "Requirement already satisfied: uritemplate<4dev,>=3.0.0 in /usr/local/lib/python3.6/dist-packages (from google-api-python-client->earthengine-api) (3.0.1)\n",
            "Requirement already satisfied: google-cloud-core<2.0dev,>=1.0.0 in /usr/local/lib/python3.6/dist-packages (from google-cloud-storage->earthengine-api) (1.0.3)\n",
            "Requirement already satisfied: google-resumable-media<0.5.0dev,>=0.3.1 in /usr/local/lib/python3.6/dist-packages (from google-cloud-storage->earthengine-api) (0.4.1)\n",
            "Requirement already satisfied: pyasn1>=0.1.3 in /usr/local/lib/python3.6/dist-packages (from rsa<5,>=3.1.4; python_version >= \"3\"->google-auth>=1.4.1->earthengine-api) (0.4.8)\n",
            "Requirement already satisfied: google-api-core<2.0.0dev,>=1.14.0 in /usr/local/lib/python3.6/dist-packages (from google-cloud-core<2.0dev,>=1.0.0->google-cloud-storage->earthengine-api) (1.16.0)\n",
            "Requirement already satisfied: protobuf>=3.4.0 in /usr/local/lib/python3.6/dist-packages (from google-api-core<2.0.0dev,>=1.14.0->google-cloud-core<2.0dev,>=1.0.0->google-cloud-storage->earthengine-api) (3.12.4)\n",
            "Requirement already satisfied: pytz in /usr/local/lib/python3.6/dist-packages (from google-api-core<2.0.0dev,>=1.14.0->google-cloud-core<2.0dev,>=1.0.0->google-cloud-storage->earthengine-api) (2018.9)\n",
            "Requirement already satisfied: requests<3.0.0dev,>=2.18.0 in /usr/local/lib/python3.6/dist-packages (from google-api-core<2.0.0dev,>=1.14.0->google-cloud-core<2.0dev,>=1.0.0->google-cloud-storage->earthengine-api) (2.23.0)\n",
            "Requirement already satisfied: googleapis-common-protos<2.0dev,>=1.6.0 in /usr/local/lib/python3.6/dist-packages (from google-api-core<2.0.0dev,>=1.14.0->google-cloud-core<2.0dev,>=1.0.0->google-cloud-storage->earthengine-api) (1.52.0)\n",
            "Requirement already satisfied: idna<3,>=2.5 in /usr/local/lib/python3.6/dist-packages (from requests<3.0.0dev,>=2.18.0->google-api-core<2.0.0dev,>=1.14.0->google-cloud-core<2.0dev,>=1.0.0->google-cloud-storage->earthengine-api) (2.10)\n",
            "Requirement already satisfied: chardet<4,>=3.0.2 in /usr/local/lib/python3.6/dist-packages (from requests<3.0.0dev,>=2.18.0->google-api-core<2.0.0dev,>=1.14.0->google-cloud-core<2.0dev,>=1.0.0->google-cloud-storage->earthengine-api) (3.0.4)\n",
            "WARNING:tensorflow:From /usr/local/lib/python3.6/dist-packages/tensorflow/python/compat/v2_compat.py:96: disable_resource_variables (from tensorflow.python.ops.variable_scope) is deprecated and will be removed in a future version.\n",
            "Instructions for updating:\n",
            "non-resource variables are not supported in the long term\n",
            "Running command using Cloud API.  Set --no-use_cloud_api to go back to using the API\n",
            "\n",
            "To authorize access needed by Earth Engine, open the following URL in a web browser and follow the instructions. If the web browser does not start automatically, please manually browse the URL below.\n",
            "\n",
            "    https://accounts.google.com/o/oauth2/auth?client_id=517222506229-vsmmajv00ul0bs7p89v5m89qs8eb9359.apps.googleusercontent.com&scope=https%3A%2F%2Fwww.googleapis.com%2Fauth%2Fearthengine+https%3A%2F%2Fwww.googleapis.com%2Fauth%2Fdevstorage.full_control&redirect_uri=urn%3Aietf%3Awg%3Aoauth%3A2.0%3Aoob&response_type=code&code_challenge=rciONXthngfoSaiRWQflzpMKhoW583XiXF8e6vkH6Tg&code_challenge_method=S256\n",
            "\n",
            "The authorization workflow will generate a code, which you should paste in the box below. \n",
            "Enter verification code: 4/1AY0e-g7sCmhPRJkARMW3wGsUzxogThpKcXGmvJSpofPcO4AUpvrSnnfqPgY\n",
            "\n",
            "Successfully saved authorization token.\n"
          ],
          "name": "stdout"
        }
      ]
    },
    {
      "cell_type": "code",
      "metadata": {
        "id": "mVdIyBS-B3pQ"
      },
      "source": [
        "# ライブラリのインポート\n",
        "from IPython.display import Image\n",
        "import ee\n",
        "\n",
        "# Google Earth Engine の初期化\n",
        "ee.Initialize()"
      ],
      "execution_count": 2,
      "outputs": []
    },
    {
      "cell_type": "code",
      "metadata": {
        "id": "meBZgSacCCNJ"
      },
      "source": [
        "# データのインプット\n",
        "# 地域を選択\n",
        "Area1 = ee.Geometry.Rectangle(138.7,35.3,138.8,35.4)\n",
        "Landsat8_collection = ee.ImageCollection('LANDSAT/LC08/C01/T1_TOA').filterDate('2019-03-01','2019-03-15').min()"
      ],
      "execution_count": 4,
      "outputs": []
    },
    {
      "cell_type": "code",
      "metadata": {
        "id": "BKgTTEO5CHlF"
      },
      "source": [
        "def VisualizeBand(data,area,band,brightness_gain):\n",
        "  \"\"\"\n",
        "  ある一つのバンドについてのモノクロ画像を作成するメソッド。\n",
        "  data : ee.ImageCollection()で指定した衛星データ\n",
        "  area  : ee.Geometryで得られた位置データ\n",
        "  band  : バンド数の指定\n",
        "  brightness_gain : 明るさを調整するためのゲイン(正の実数)\n",
        "  \"\"\"\n",
        "  Band = data.select(\"B%i\" %band) #bandに対応するバンドを選択\n",
        "  \n",
        "  # expression(式,引数の指定)を用いて計算をしている。\n",
        "  # ゲインと呼ばれる定数をかけることで値を調整している。\n",
        "  # 可視化する際は0とそれ以下の値を最小値(黒)、1とそれ以上の値を最大値(白)として明るさを配分しているため、\n",
        "  # ゲインを変更することで各バンドの明るさを変更することができる。\n",
        "  Band_gain = data.expression(\"Band*gain\",{\"Band\":Band,\"gain\":brightness_gain})\n",
        "  \n",
        "  # データの範囲を選択し、画像データにする。\n",
        "  clipped_image = ee.Image(Band_gain).clip(area)\n",
        "  \n",
        "  # データの範囲を緯度経度で表したリストを作成する。\n",
        "  region_geom = area.getInfo()['coordinates']\n",
        "  \n",
        "  # 画像のサムネイルの作成と画像の可視化を行う。\n",
        "  image_url = clipped_image.getThumbUrl({'min':0,'max':1,'dimensions':'800','region':region_geom})\n",
        "  return Image(url=image_url)\n"
      ],
      "execution_count": 8,
      "outputs": []
    },
    {
      "cell_type": "code",
      "metadata": {
        "colab": {
          "base_uri": "https://localhost:8080/",
          "height": 821
        },
        "id": "-tEqr86PCMK4",
        "outputId": "527798ba-78e2-47e6-ca98-baff4ecc01fe"
      },
      "source": [
        "VisualizeBand(Landsat8_collection,Area1,8,3)"
      ],
      "execution_count": 9,
      "outputs": [
        {
          "output_type": "execute_result",
          "data": {
            "text/html": [
              "<img src=\"https://earthengine.googleapis.com/v1alpha/projects/earthengine-legacy/thumbnails/b30def66c80ca0f6a72d601cf5d49e93-ae213e14b048bdedb9d64cd8d17b8859:getPixels\"/>"
            ],
            "text/plain": [
              "<IPython.core.display.Image object>"
            ]
          },
          "metadata": {
            "tags": []
          },
          "execution_count": 9
        }
      ]
    },
    {
      "cell_type": "code",
      "metadata": {
        "id": "29XaOrs8CebC"
      },
      "source": [
        "def TrueColor(data,area,brightness_gain):\n",
        "  \"\"\"\n",
        "  TrueColor画像の可視化を行うメソッド。\n",
        "  image : ee.ImageCollection()で指定した衛星データ\n",
        "  area  : ee.Geometryで得られた位置データ\n",
        "  brightness_gain : 明るさを調整するためのゲイン(正の実数)\n",
        "  \"\"\"\n",
        "  Band4 = data.select(\"B4\") #赤色に対応するバンドを選択\n",
        "  Band3 = data.select(\"B3\") #緑色に対応するバンドを選択\n",
        "  Band2 = data.select(\"B2\") #青色に対応するバンドを選択\n",
        "  \n",
        "  # expression(式,引数の指定)を用いて計算をしている。\n",
        "  # ゲインと呼ばれる定数をかけることで値を調整している。\n",
        "  # 可視化する際は0とそれ以下の値を最小値(黒)、1とそれ以上の値を最大値(白)として明るさを配分しているため、ゲインを変更することで各バンドの明るさを変更することができる。\n",
        "  red = data.expression(\"Red*gain_R\",{\"Red\":Band4,\"gain_R\":brightness_gain})\n",
        "  green = data.expression(\"Green*gain_G\",{\"Green\":Band3,\"gain_G\":brightness_gain})\n",
        "  blue = data.expression(\"Blue*gain_B\",{\"Blue\":Band2,\"gain_B\":brightness_gain})\n",
        "  \n",
        "  # TrueColorのバンドを重ねたデータを作成する。\n",
        "  image = ee.Image(red).addBands(green).addBands(blue)\n",
        "  \n",
        "  # データの範囲を指定する。\n",
        "  clipped_image = image.clip(area)\n",
        "  \n",
        "  # データの範囲を緯度経度で表したリストを作成する。\n",
        "  region_geom = area.getInfo()['coordinates']\n",
        "  \n",
        "  # 画像のサムネイルの作成と画像の可視化を行う。\n",
        "  image_url = clipped_image.getThumbUrl({'min':0,'max':1,'dimensions':'800','region':region_geom})\n",
        "  print(image_url)\n",
        "  return Image(url=image_url)"
      ],
      "execution_count": 12,
      "outputs": []
    },
    {
      "cell_type": "code",
      "metadata": {
        "colab": {
          "base_uri": "https://localhost:8080/",
          "height": 838
        },
        "id": "R4OFq64_CiWc",
        "outputId": "fe77d7d9-5015-4a67-bc21-5a626c3f61c0"
      },
      "source": [
        "TrueColor(Landsat8_collection,Area1,3)"
      ],
      "execution_count": 13,
      "outputs": [
        {
          "output_type": "stream",
          "text": [
            "https://earthengine.googleapis.com/v1alpha/projects/earthengine-legacy/thumbnails/2a09fc4e63a3bbedf04c81ada0c2b014-0dcf69d68c7bb4671d526da866fc0fb2:getPixels\n"
          ],
          "name": "stdout"
        },
        {
          "output_type": "execute_result",
          "data": {
            "text/html": [
              "<img src=\"https://earthengine.googleapis.com/v1alpha/projects/earthengine-legacy/thumbnails/2a09fc4e63a3bbedf04c81ada0c2b014-0dcf69d68c7bb4671d526da866fc0fb2:getPixels\"/>"
            ],
            "text/plain": [
              "<IPython.core.display.Image object>"
            ]
          },
          "metadata": {
            "tags": []
          },
          "execution_count": 13
        }
      ]
    }
  ]
}